{
 "cells": [
  {
   "cell_type": "code",
   "execution_count": null,
   "metadata": {},
   "outputs": [],
   "source": [
    "import MDAnalysis as mda \n",
    "import numpy as np \n",
    "import matplotlib.pyplot as plt \n",
    "import seaborn as sn \n",
    "import math\n",
    "import pandas as pd \n",
    "from MDAnalysis.analysis import contacts\n",
    "from MDAnalysis.analysis import rdf\n",
    "plt.rcParams.update({\n",
    "    \"text.usetex\": True,\n",
    "    \"font.family\": \"sans-serif\",\n",
    "    \"font.sans-serif\": [\"Helvetica\"]})\n",
    "# for Palatino and other serif fonts use:\n",
    "plt.rcParams.update({\n",
    "    \"text.usetex\": True,\n",
    "    \"font.family\": \"serif\",\n",
    "    \"font.serif\": [\"Palatino\"],\n",
    "})\n",
    "# It's also possible to use the reduced notation by directly setting font.family:\n",
    "plt.rcParams.update({\n",
    "  \"text.usetex\": True,\n",
    "  \"font.family\": \"Helvetica\"\n",
    "})\n",
    "import scipy\n",
    "from scipy.optimize import curve_fit\n",
    "import math\n",
    "from MDAnalysis.analysis import polymer\n",
    "import os"
   ]
  },
  {
   "cell_type": "code",
   "execution_count": null,
   "metadata": {},
   "outputs": [],
   "source": [
    "u_pro = mda.Universe(\"data.psf\",\"dump_atom.prod\",format = 'LAMMPSDUMP')"
   ]
  },
  {
   "cell_type": "code",
   "execution_count": null,
   "metadata": {},
   "outputs": [],
   "source": [
    "#Function for the Minimum Image Convention\n",
    "def MIC(d):\n",
    "    global box\n",
    "    if d > box/2.:\n",
    "        d = d-box\n",
    "    elif d < -box/2.:\n",
    "        d = d + box\n",
    "    return d"
   ]
  },
  {
   "cell_type": "code",
   "execution_count": null,
   "metadata": {},
   "outputs": [],
   "source": [
    "def cluster_search(j):\n",
    "    global dist,pos,cluster_status,cluster_index,cluster_nr,d_cut,monomer\n",
    "    for i in range(0,len(pos)):\n",
    "        if (i != j) & (abs(dist[i,j]) < d_cut) & (cluster_status[i] == 0):\n",
    "            cluster_status[i] = 1\n",
    "            cluster_index.append(cluster_nr)\n",
    "            cluster_search(i)\n",
    "            "
   ]
  },
  {
   "cell_type": "code",
   "execution_count": null,
   "metadata": {},
   "outputs": [],
   "source": [
    "box = 46.45 #check data.packed\n",
    "\n",
    "tot_pos = u_total.select_atoms('name B')\n",
    "eq_pos = u_eq.select_atoms('name B')\n",
    "pro_pos = u_pro.select_atoms('name B')\n",
    "pos1 = tot_pos.positions\n",
    "eq_Avg_chain_size = []\n",
    "pro_Avg_chain_size = []\n",
    "eq_number_of_chains = []\n",
    "pro_number_of_chains = []\n",
    "eq_time = []\n",
    "pro_time = []\n",
    "eq_max_cluster = []\n",
    "pro_max_cluster = []\n",
    "eq_frame_dt = 1000000  #check input.lmp\n",
    "pro_frame_dt = 100000 #check input.lmp\n",
    "dt = 0.001 #check input.lmp\n",
    "eq_monomer_number = []\n",
    "pro_monomer_number = []\n",
    "d_cut = 1.1\n",
    "dist = np.zeros_like(np.arange(len(pos1)*len(pos1)).reshape(len(pos1),len(pos1)),dtype = float)    "
   ]
  },
  {
   "cell_type": "code",
   "execution_count": null,
   "metadata": {},
   "outputs": [],
   "source": [
    "def cluster_search_new(j):\n",
    "    global dist,pos,cluster_status,cluster_index,cluster_nr,d_cut,monomer,p1,p2,posA1,posA2,xyz_file\n",
    "    for i in range(0,len(pos)):\n",
    "        if (i != j) & (abs(dist[i,j]) < d_cut) & (cluster_status[i] == 0):\n",
    "            cluster_status[i] = 1\n",
    "            p1.append(posA1[i])\n",
    "            p2.append(posA2[i])\n",
    "            write_pos(posA1[i],xyz_file)\n",
    "            cluster_index.append(cluster_nr)\n",
    "            cluster_search_new(i)           "
   ]
  },
  {
   "cell_type": "code",
   "execution_count": null,
   "metadata": {},
   "outputs": [],
   "source": [
    "def unit_vector(vec):\n",
    "    mag = np.sqrt(vec[0]**2 + vec[1]**2 + vec[2]**2)\n",
    "    return np.array(vec)/mag"
   ]
  },
  {
   "cell_type": "code",
   "execution_count": null,
   "metadata": {},
   "outputs": [],
   "source": [
    "def magnitude(vec):\n",
    "    return(np.sqrt(vec[0]**2 + vec[1]**2 + vec[2]**2))"
   ]
  },
  {
   "cell_type": "code",
   "execution_count": null,
   "metadata": {},
   "outputs": [],
   "source": [
    "def av_angle(pos_A1,pos_A2):\n",
    "    cos_t = 0\n",
    "    brack = 0\n",
    "    Np = 0\n",
    "    for i in range(1,len(pos_A1)):\n",
    "        u1 = unit_vector(np.array([(pos_A1[i-1][0]-pos_A2[i-1][0]),(pos_A1[i-1][1]-pos_A2[i-1][1]),(pos_A1[i-1][2]-pos_A2[i-1][2])]))\n",
    "        u2 = unit_vector(np.array([(pos_A1[i][0]-pos_A2[i][0]),(pos_A1[i][1]-pos_A2[i][1]),(pos_A1[i][2]-pos_A2[i][2])]))\n",
    "        cos_t = np.dot(u1,u2)\n",
    "        brack = brack + (3*(cos_t)**2 - 1)\n",
    "        Np += 1\n",
    "   \n",
    "    return brack/(2*Np)"
   ]
  },
  {
   "cell_type": "code",
   "execution_count": null,
   "metadata": {},
   "outputs": [],
   "source": [
    "def write_pos(vec,f_handle):\n",
    "    print(\"H \",vec[0],\" \",vec[1],\" \",vec[2],file = f_handle)"
   ]
  },
  {
   "cell_type": "code",
   "execution_count": null,
   "metadata": {},
   "outputs": [],
   "source": [
    "B = u_pro.select_atoms('name B')\n",
    "A1 = u_pro.atoms[list(range(0,3000,3))]\n",
    "A2 = u_pro.atoms[list(range(2,3000,3))]\n",
    "pos = pro_pos.positions\n",
    "for ts in u_pro.trajectory[-100:]:\n",
    "    Q_m = []\n",
    "    posB = B.positions\n",
    "    posA1 = A1.positions\n",
    "    posA2 = A2.positions\n",
    "    for i in range(0,len(pos)):\n",
    "        for j in range(0,len(pos)):\n",
    "            if i != j:\n",
    "                dx = MIC(posB[i,0] - posB[j,0])\n",
    "                dy = MIC(posB[i,1] - posB[j,1])\n",
    "                dz = MIC(posB[i,2] - posB[j,2])\n",
    "                dist[i,j] = math.sqrt(dx*dx + dy*dy + dz*dz)\n",
    "            if i == j:\n",
    "                dist[i,j] = 0\n",
    "    cluster_nr = 0\n",
    "    cluster_status = np.zeros_like(np.arange(len(pos)))\n",
    "    cluster_index=[]\n",
    "    p1 = []\n",
    "    p2 = []\n",
    "    Q = []\n",
    "    file_counter = 0\n",
    "    xyz_file = open(\"analysis_files/chain_pos/chain%d.xyz\"%file_counter,'w')\n",
    "    for i in range(0,len(posB)):\n",
    "        if cluster_status[i] == 0:\n",
    "            cluster_status[i] = 1\n",
    "            p1.append(posA1[i])\n",
    "            p2.append(posA2[i])\n",
    "            write_pos(posA1[i],xyz_file)\n",
    "            cluster_search_new(i)\n",
    "            if len(p1)>1:\n",
    "                Q.append(av_angle(p1,p2))\n",
    "            cluster_index.append(cluster_nr)\n",
    "            cluster_nr = cluster_nr + 1\n",
    "            xyz_file.close()\n",
    "            file_counter += 1\n",
    "            xyz_file = open(\"analysis_files/chain_pos/chain%d.xyz\"%file_counter,'w')\n",
    "            p1 = []\n",
    "            p2 = []\n",
    "    Q_m.append(np.mean(Q))\n",
    "xyz_file.close()"
   ]
  },
  {
   "cell_type": "code",
   "execution_count": null,
   "metadata": {},
   "outputs": [],
   "source": [
    "qfile = open('analysis_files/orientation_factor.dat','w')\n",
    "print(\"orientation factor:\",file = qfile)\n",
    "print(np.mean(Q_m),\" +- \",np.std(Q_m),file = qfile)\n",
    "qfile.close()\n",
    "print(np.mean(Q_m),np.std(Q_m))"
   ]
  }
 ],
 "metadata": {
  "kernelspec": {
   "display_name": "Python 2.7.15 ('pizza')",
   "language": "python",
   "name": "python3"
  },
  "language_info": {
   "name": "python",
   "version": "2.7.15"
  },
  "orig_nbformat": 4,
  "vscode": {
   "interpreter": {
    "hash": "4d95e7b75d4fe0476eb85222d86835e36f926e685ef0c8edc6865f3d24cdde48"
   }
  }
 },
 "nbformat": 4,
 "nbformat_minor": 2
}
