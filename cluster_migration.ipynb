{
 "cells": [
  {
   "cell_type": "code",
   "execution_count": 10,
   "metadata": {},
   "outputs": [],
   "source": [
    "import numpy as np\n",
    "import matplotlib.pyplot as plt \n",
    "import matplotlib.pyplot as plt\n",
    "plt.rcParams.update({\n",
    "    \"text.usetex\": True,\n",
    "    \"font.family\": \"sans-serif\",\n",
    "    \"font.sans-serif\": [\"Helvetica\"]})\n",
    "# for Palatino and other serif fonts use:\n",
    "plt.rcParams.update({\n",
    "    \"text.usetex\": True,\n",
    "    \"font.family\": \"serif\",\n",
    "    \"font.serif\": [\"Palatino\"],\n",
    "})\n",
    "# It's also possible to use the reduced notation by directly setting font.family:\n",
    "plt.rcParams.update({\n",
    "  \"text.usetex\": True,\n",
    "  \"font.family\": \"Helvetica\"\n",
    "})"
   ]
  },
  {
   "cell_type": "code",
   "execution_count": 11,
   "metadata": {},
   "outputs": [
    {
     "name": "stdout",
     "output_type": "stream",
     "text": [
      "[WinError 183] Cannot create a file when that file already exists: 'figures'\n",
      "[WinError 183] Cannot create a file when that file already exists: 'post_process_files'\n"
     ]
    }
   ],
   "source": [
    "try:\n",
    "    os.mkdir(\"figures\")\n",
    "except OSError as error:\n",
    "    print(error)\n",
    "try:\n",
    "    os.mkdir(\"post_process_files\")\n",
    "except OSError as error:\n",
    "    print(error)"
   ]
  },
  {
   "cell_type": "code",
   "execution_count": 12,
   "metadata": {},
   "outputs": [],
   "source": [
    "def countX(lst, x):\n",
    "    if lst.count(x):\n",
    "        return lst.count(x)\n",
    "    else:\n",
    "        return 1"
   ]
  },
  {
   "cell_type": "markdown",
   "metadata": {},
   "source": [
    "## Modified Algorithm:"
   ]
  },
  {
   "cell_type": "code",
   "execution_count": 14,
   "metadata": {},
   "outputs": [
    {
     "name": "stdout",
     "output_type": "stream",
     "text": [
      "[0, 2.0, 5.0, 8.0, 11.0, 14.0, 17.0, 20.0, 23.0, 26.0, 29.0, 32.0, 35.0, 38.0, 41.0, 44.0, 47.0, 50.0, 53.0, 56.0, 59.0, 62.0, 65.0, 68.0, 71.0, 74.0, 77.0, 80.0, 83.0, 86.0, 89.0, 92.0, 95.0, 98.0, 101.0, 104.0, 107.0, 110.0, 113.0, 116.0, 119.0, 122.0, 125.0, 128.0, 131.0, 134.0, 137.0, 140.0, 143.0, 146.0, 149.0, 152.0, 155.0, 158.0, 161.0, 164.0, 167.0, 170.0, 173.0, 176.0, 179.0, 662.0, 1181.0, 1385.0, 182.0, 185.0, 188.0, 191.0, 194.0, 197.0, 200.0, 203.0, 206.0, 209.0, 212.0, 215.0, 218.0, 221.0, 224.0, 227.0, 230.0, 233.0, 236.0, 239.0, 242.0, 245.0, 248.0, 251.0, 254.0, 257.0, 260.0, 263.0, 266.0, 269.0, 272.0, 275.0, 278.0, 281.0, 284.0, 287.0, 290.0, 293.0, 296.0, 299.0, 302.0, 305.0, 308.0, 311.0, 314.0, 317.0, 320.0, 323.0, 326.0, 329.0, 332.0, 335.0, 338.0, 341.0, 344.0, 347.0, 350.0, 353.0, 356.0, 359.0, 362.0, 365.0, 368.0, 371.0, 374.0, 377.0, 380.0, 383.0, 386.0, 389.0, 392.0, 395.0, 398.0, 401.0, 404.0, 407.0, 410.0, 413.0, 416.0, 419.0, 422.0, 425.0, 428.0, 431.0, 434.0, 437.0, 440.0, 443.0, 446.0, 449.0, 1754.0, 1829.0, 2225.0, 452.0, 455.0, 458.0, 461.0, 464.0, 467.0, 470.0, 473.0, 476.0, 479.0, 482.0, 485.0, 488.0, 491.0, 494.0, 497.0, 500.0, 503.0, 506.0, 509.0, 512.0, 515.0, 518.0, 521.0, 524.0, 527.0, 530.0, 533.0, 536.0, 539.0, 542.0, 545.0, 548.0, 551.0, 554.0, 557.0, 560.0, 563.0, 566.0, 569.0, 572.0, 575.0, 578.0, 581.0, 584.0, 587.0, 590.0, 593.0, 596.0, 599.0, 602.0, 605.0, 608.0, 611.0, 614.0, 617.0, 620.0, 623.0, 626.0, 629.0, 632.0, 635.0, 638.0, 641.0, 644.0, 647.0, 650.0, 653.0, 656.0, 659.0, 665.0, 668.0, 671.0, 674.0, 677.0, 680.0, 683.0, 686.0, 689.0, 692.0, 695.0, 698.0, 701.0, 704.0, 707.0, 710.0, 713.0, 716.0, 719.0, 722.0, 725.0, 728.0, 731.0, 734.0, 737.0, 740.0, 743.0, 746.0, 749.0, 752.0, 755.0, 758.0, 761.0, 764.0, 767.0, 770.0, 773.0, 776.0, 779.0, 782.0, 785.0, 788.0, 791.0, 794.0, 797.0, 800.0, 803.0, 806.0, 809.0, 812.0, 815.0, 818.0, 821.0, 824.0, 827.0, 830.0, 833.0, 836.0, 839.0, 842.0, 845.0, 848.0, 851.0, 854.0, 857.0, 860.0, 863.0, 866.0, 869.0, 872.0, 875.0, 878.0, 881.0, 884.0, 887.0, 890.0, 893.0, 896.0, 899.0, 902.0, 905.0, 908.0, 911.0, 914.0, 917.0, 920.0, 923.0, 926.0, 929.0, 932.0, 935.0, 938.0, 941.0, 944.0, 947.0, 950.0, 953.0, 956.0, 959.0, 962.0, 965.0, 968.0, 971.0, 974.0, 977.0, 980.0, 983.0, 986.0, 989.0, 992.0, 995.0, 998.0, 1001.0, 1004.0, 1007.0, 1010.0, 1013.0, 1016.0, 1019.0, 1022.0, 1025.0, 1028.0, 1031.0, 1034.0, 1037.0, 1040.0, 1043.0, 1046.0, 1049.0, 1052.0, 1055.0, 1058.0, 1061.0, 1064.0, 1067.0, 1070.0, 1073.0, 1076.0, 1079.0, 1082.0, 1085.0, 1088.0, 1091.0, 1094.0, 1097.0, 1100.0, 1103.0, 1106.0, 1109.0, 1112.0, 1115.0, 1118.0, 1121.0, 1124.0, 1127.0, 1130.0, 1133.0, 1136.0, 1139.0, 1142.0, 1145.0, 1148.0, 1151.0, 1154.0, 1157.0, 1160.0, 1163.0, 1166.0, 1169.0, 1172.0, 1175.0, 1178.0, 1184.0, 1187.0, 1190.0, 1193.0, 1196.0, 1199.0, 1202.0, 1205.0, 1208.0, 1211.0, 1214.0, 1217.0, 1220.0, 1223.0, 1226.0, 1229.0, 1232.0, 1235.0, 1238.0, 1241.0, 1244.0, 1247.0, 1250.0, 1253.0, 1256.0, 1259.0, 1262.0, 1265.0, 1268.0, 1271.0, 1274.0, 1277.0, 1280.0, 1283.0, 1286.0, 1289.0, 1292.0, 1295.0, 1298.0, 1301.0, 1304.0, 1307.0, 1310.0, 1313.0, 1316.0, 1319.0, 1322.0, 1325.0, 1328.0, 1331.0, 1334.0, 1337.0, 1340.0, 1343.0, 1346.0, 1349.0, 1352.0, 1355.0, 1358.0, 1361.0, 1364.0, 1367.0, 1370.0, 1373.0, 1376.0, 1379.0, 1382.0, 1388.0, 1391.0, 1394.0, 1397.0, 1400.0, 1403.0, 1406.0, 1409.0, 1412.0, 1415.0, 1418.0, 1421.0, 1424.0, 1427.0, 1430.0, 1433.0, 1436.0, 1439.0, 1442.0, 1445.0, 1448.0, 1451.0, 1454.0, 1457.0, 1460.0, 1463.0, 1466.0, 1469.0, 1472.0, 1475.0, 1478.0, 1481.0, 1484.0, 1487.0, 1490.0, 1493.0, 1496.0, 1499.0, 1502.0, 1505.0, 1508.0, 1511.0, 1514.0, 1517.0, 1520.0, 1523.0, 1526.0, 1529.0, 1532.0, 1535.0, 1538.0, 1541.0, 1544.0, 1547.0, 1550.0, 1553.0, 1556.0, 1559.0, 1562.0, 1565.0, 1568.0, 1571.0, 1574.0, 1577.0, 1580.0, 1583.0, 1586.0, 1589.0, 1592.0, 1595.0, 1598.0, 1601.0, 1604.0, 1607.0, 1610.0, 1613.0, 1616.0, 1619.0, 1622.0, 1625.0, 1628.0, 1631.0, 1634.0, 1637.0, 1640.0, 1643.0, 1646.0, 1649.0, 1652.0, 1655.0, 1658.0, 1661.0, 1664.0, 1667.0, 1670.0, 1673.0, 1676.0, 1679.0, 1682.0, 1685.0, 1688.0, 1691.0, 1694.0, 1697.0, 1700.0, 1703.0, 1706.0, 1709.0, 1712.0, 1715.0, 1718.0, 1721.0, 1724.0, 1727.0, 1730.0, 1733.0, 1736.0, 1739.0, 1742.0, 1745.0, 1748.0, 1751.0, 1757.0, 1760.0, 1763.0, 1766.0, 1769.0, 1772.0, 1775.0, 1778.0, 1781.0, 1784.0, 1787.0, 1790.0, 1793.0, 1796.0, 1799.0, 1802.0, 1805.0, 1808.0, 1811.0, 1814.0, 1817.0, 1820.0, 1823.0, 1826.0, 1832.0, 1835.0, 1838.0, 1841.0, 1844.0, 1847.0, 1850.0, 1853.0, 1856.0, 1859.0, 1862.0, 1865.0, 1868.0, 1871.0, 1874.0, 1877.0, 1880.0, 1883.0, 1886.0, 1889.0, 1892.0, 1895.0, 1898.0, 1901.0, 1904.0, 1907.0, 1910.0, 1913.0, 1916.0, 1919.0, 1922.0, 1925.0, 1928.0, 1931.0, 1934.0, 1937.0, 1940.0, 1943.0, 1946.0, 1949.0, 1952.0, 1955.0, 1958.0, 1961.0, 1964.0, 1967.0, 1970.0, 1973.0, 1976.0, 1979.0, 1982.0, 1985.0, 1988.0, 1991.0, 1994.0, 1997.0, 2000.0, 2003.0, 2006.0, 2009.0, 2012.0, 2015.0, 2018.0, 2021.0, 2024.0, 2027.0, 2030.0, 2033.0, 2036.0, 2039.0, 2042.0, 2045.0, 2048.0, 2051.0, 2054.0, 2057.0, 2060.0, 2063.0, 2066.0, 2069.0, 2072.0, 2075.0, 2078.0, 2081.0, 2084.0, 2087.0, 2090.0, 2093.0, 2096.0, 2099.0, 2102.0, 2105.0, 2108.0, 2111.0, 2114.0, 2117.0, 2120.0, 2123.0, 2126.0, 2129.0, 2132.0, 2135.0, 2138.0, 2141.0, 2144.0, 2147.0, 2150.0, 2153.0, 2156.0, 2159.0, 2162.0, 2165.0, 2168.0, 2171.0, 2174.0, 2177.0, 2180.0, 2183.0, 2186.0, 2189.0, 2192.0, 2195.0, 2198.0, 2201.0, 2204.0, 2207.0, 2210.0, 2213.0, 2216.0, 2219.0, 2222.0, 2228.0, 2231.0, 2234.0, 2237.0, 2240.0, 2243.0, 2246.0, 2249.0, 2252.0, 2255.0, 2258.0, 2261.0, 2264.0, 2267.0, 2270.0, 2273.0, 2276.0, 2279.0, 2282.0, 2285.0, 2288.0, 2291.0, 2294.0, 2297.0, 2300.0, 2303.0, 2306.0, 2309.0, 2312.0, 2315.0, 2318.0, 2321.0, 2324.0, 2327.0, 2330.0, 2333.0, 2336.0, 2339.0, 2342.0, 2345.0, 2348.0, 2351.0, 2354.0, 2357.0, 2360.0, 2363.0, 2366.0, 2369.0, 2372.0, 2375.0, 2378.0, 2381.0, 2384.0, 2387.0, 2390.0, 2393.0, 2396.0, 2399.0, 2402.0, 2405.0, 2408.0, 2411.0, 2414.0, 2417.0, 2420.0, 2423.0, 2426.0, 2429.0, 2432.0, 2435.0, 2438.0, 2441.0, 2444.0, 2447.0, 2450.0, 2453.0, 2456.0, 2459.0, 2462.0, 2465.0, 2468.0, 2471.0, 2474.0, 2477.0, 2480.0, 2483.0, 2486.0, 2489.0, 2492.0, 2495.0, 2498.0, 2501.0, 2504.0, 2507.0, 2510.0, 2513.0, 2516.0, 2519.0, 2522.0, 2525.0, 2528.0, 2531.0, 2534.0, 2537.0, 2540.0, 2543.0, 2546.0, 2549.0, 2552.0, 2555.0, 2558.0, 2561.0, 2564.0, 2567.0, 2570.0, 2573.0, 2576.0, 2579.0, 2582.0, 2585.0, 2588.0, 2591.0, 2594.0, 2597.0, 2600.0, 2603.0, 2606.0, 2609.0, 2612.0, 2615.0, 2618.0, 2621.0, 2624.0, 2627.0, 2630.0, 2633.0, 2636.0, 2639.0, 2642.0, 2645.0, 2648.0, 2651.0, 2654.0, 2657.0, 2660.0, 2663.0, 2666.0, 2669.0, 2672.0, 2675.0, 2678.0, 2681.0, 2684.0, 2687.0, 2690.0, 2693.0, 2696.0, 2699.0, 2702.0, 2705.0, 2708.0, 2711.0, 2714.0, 2717.0, 2720.0, 2723.0, 2726.0, 2729.0, 2732.0, 2735.0, 2738.0, 2741.0, 2744.0, 2747.0, 2750.0, 2753.0, 2756.0, 2759.0, 2762.0, 2765.0, 2768.0, 2771.0, 2774.0, 2777.0, 2780.0, 2783.0, 2786.0, 2789.0, 2792.0, 2795.0, 2798.0, 2801.0, 2804.0, 2807.0, 2810.0, 2813.0, 2816.0, 2819.0, 2822.0, 2825.0, 2828.0, 2831.0, 2834.0, 2837.0, 2840.0, 2843.0, 2846.0, 2849.0, 2852.0, 2855.0, 2858.0, 2861.0, 2864.0, 2867.0, 2870.0, 2873.0, 2876.0, 2879.0, 2882.0, 2885.0, 2888.0, 2891.0, 2894.0, 2897.0, 2900.0, 2903.0, 2906.0, 2909.0, 2912.0, 2915.0, 2918.0, 2921.0, 2924.0, 2927.0, 2930.0, 2933.0, 2936.0, 2939.0, 2942.0, 2945.0, 2948.0, 2951.0, 2954.0, 2957.0, 2960.0, 2963.0, 2966.0, 2969.0, 2972.0, 2975.0, 2978.0, 2981.0, 2984.0, 2987.0, 2990.0, 2993.0, 2996.0, 2999.0]\n"
     ]
    }
   ],
   "source": [
    "frame_no = []\n",
    "line_counter = 0\n",
    "iter = 0\n",
    "part_id = [] #stores the particle id for each frame\n",
    "currcluster_id = [] #stores the cluster ID for the current frame\n",
    "oldcluster_id=[] #stores the the cluster ID for the previous frame\n",
    "curr_coord = [] #stores the coordination number for the current frame \n",
    "old_coord = [] #stores the coordination number for the previous frame\n",
    "size = [] #stores the sizes of each cluster ID\n",
    "avg_len = [] #average length of the chain\n",
    "max_len = [] #maximum length of the chain\n",
    "migration = [] #stores the number of times there is a change between the surrent and the previous cluster ID\n",
    "curr_particle_cluster_size = [] #stores the chain size that the particle belongs to\n",
    "old_particle_cluster_size = []\n",
    "dimer = [] #stores the number of dimers in each frame\n",
    "trimer = [] #stores the number of trimers in each frame\n",
    "hexamer = [] #stores the number of 6-mers in each frame\n",
    "elongation = [] #stores elongation instance for each frame\n",
    "fragmentation = [] #stores fragmentation instance for each frame\n",
    "depoly = [] #stores depolymerization instance for each frame\n",
    "curr_chain_counter = 0\n",
    "old_chain_counter = 0\n",
    "f_elon = 0\n",
    "f_frag = 0\n",
    "f_depo = 0\n",
    "iter = 0\n",
    "file1 = open(\"cluster.dat\",\"r\")\n",
    "file2 = open(\"coord.dat\",\"r\")\n",
    "c_file = open(\"post_process_files/cluster_dynamic_stat.dat\",\"w\")\n",
    "print(\"time_frame   elongation  fragmentation   depolymerization\",file = c_file)\n",
    "p_file = open(\"post_process_files/particle_cluster_size.dat\",\"w\")\n",
    "print(\"Size of the cluster each particle ID belongs to\",file = p_file)\n",
    "m_file = open(\"analysis_files/monomer_conc.dat\",\"w\")\n",
    "print(\"time_frame   Monomer_No\",file = m_file)\n",
    "f_file = open(\"post_process_files/fragmentation_stat.dat\",\"w\")\n",
    "print(\"Time_frame   fragmentation\",file = f_file)\n",
    "for line,line2 in zip(file1,file2):\n",
    "    line_counter = line_counter + 1\n",
    "    if line_counter==2:\n",
    "        frame_no.append(int(line))\n",
    "        print(int(line),file = p_file)\n",
    "    if (line_counter>9)&(line_counter <= 1009):\n",
    "        f_list = [float(i) for i in line.split()]\n",
    "        n_list = [float(i) for i in line2.split()]\n",
    "        part_id.append(f_list[0])\n",
    "        currcluster_id.append(f_list[1])\n",
    "        curr_coord.append(n_list[1])\n",
    "    if (line_counter == 1009):\n",
    "        part_index = [0]\n",
    "        change_count = 0\n",
    "        line_counter = 0\n",
    "        for i in range(0,len(part_id)):\n",
    "            size.append(countX(currcluster_id,part_id[i]))\n",
    "            curr_particle_cluster_size.append(countX(currcluster_id,currcluster_id[i]))\n",
    "            print(int(part_id[i]),\"  \",curr_particle_cluster_size[i], file = p_file) \n",
    "        avg_len.append(np.average(size,weights = size)) #weighted average\n",
    "        for k in range(0,len(size)):\n",
    "            if size[k] >= 2:\n",
    "                curr_chain_counter += 1\n",
    "        \n",
    "        #avg_len.append(np.mean(size))  #regular mean\n",
    "        max_len.append(np.max(size))\n",
    "        print(frame_no[iter],\"   \",countX(curr_particle_cluster_size,1),file = m_file)\n",
    "        dimer.append(countX(curr_particle_cluster_size,2)/2)\n",
    "        trimer.append(countX(curr_particle_cluster_size,3)/3)\n",
    "        hexamer.append(countX(curr_particle_cluster_size,6)/6)\n",
    "        if iter >= 1:\n",
    "            \n",
    "            part_index = [0]\n",
    "            for j in range(0,len(oldcluster_id)):\n",
    "                if oldcluster_id[j]!=currcluster_id[j]:\n",
    "                    change_count += 1\n",
    "            f_elon = 0\n",
    "            f_frag = 0\n",
    "            f_depo = 0\n",
    "            for k in range(0,len(curr_particle_cluster_size)):\n",
    "                if part_id[k] not in part_index:\n",
    "                    part_index.append(part_id[k])\n",
    "                    if curr_particle_cluster_size[k] > old_particle_cluster_size[k]:\n",
    "                        f_elon += 1\n",
    "                        for q in range(0,len(curr_particle_cluster_size)):\n",
    "                            if (currcluster_id[k]==currcluster_id[q]) & (part_id[q] not in part_index):\n",
    "                                part_index.append(part_id[q])\n",
    "                    elif (curr_particle_cluster_size[k] < old_particle_cluster_size[k]) & (curr_coord[k] != 0):# & (old_particle_cluster_size[k] > 3):\n",
    "                        f_frag += 1\n",
    "                        for q in range(0,len(curr_particle_cluster_size)):\n",
    "                            if (currcluster_id[k]==currcluster_id[q]) & (part_id[q] not in part_index):\n",
    "                                part_index.append(part_id[q])\n",
    "                    elif (curr_particle_cluster_size[k] < old_particle_cluster_size[k]) & (curr_coord[k] == 0):# & (old_particle_cluster_size[k] > 2):\n",
    "                        f_depo += 1\n",
    "                        for q in range(0,len(curr_particle_cluster_size)):\n",
    "                            if (currcluster_id[k]==currcluster_id[q]) & (part_id[q] not in part_index):\n",
    "                                part_index.append(part_id[q])\n",
    "            \n",
    "            if curr_chain_counter > old_chain_counter:\n",
    "                N_frag = curr_chain_counter-old_chain_counter\n",
    "            else:\n",
    "                N_frag = 0\n",
    "            print(frame_no[iter],\"   \",N_frag,file = f_file)\n",
    "        \n",
    "                    \n",
    "        old_chain_counter = curr_chain_counter\n",
    "        curr_chain_counter = 0                                      \n",
    "        elongation.append(f_elon)\n",
    "        fragmentation.append(f_frag)\n",
    "        depoly.append(f_depo)                    \n",
    "        migration.append(change_count)\n",
    "        oldcluster_id = currcluster_id\n",
    "        old_coord = curr_coord\n",
    "        old_particle_cluster_size = curr_particle_cluster_size\n",
    "        part_id = []\n",
    "        currcluster_id = []\n",
    "        curr_coord = []\n",
    "        size = []\n",
    "        curr_particle_cluster_size =[]\n",
    "        \n",
    "        iter += 1\n",
    "        \n",
    "for j in range(0,len(frame_no)):\n",
    "    print(frame_no[j],\" \",elongation[j],\"   \",fragmentation[j],\"    \",depoly[j],file=c_file)\n",
    "c_file.close()\n",
    "p_file.close()\n",
    "m_file.close()\n",
    "f_file.close()\n",
    "print(part_index)        "
   ]
  },
  {
   "cell_type": "code",
   "execution_count": null,
   "metadata": {},
   "outputs": [
    {
     "data": {
      "image/png": "[encoded data removed]",
      "text/plain": [
       "<Figure size 432x288 with 1 Axes>"
      ]
     },
     "metadata": {
      "needs_background": "light"
     },
     "output_type": "display_data"
    }
   ],
   "source": [
    "#fig = plt.figure()\n",
    "#ax = fig.add_axes([0.15,0.15,0.80,0.80])\n",
    "#ax.plot(elongation)\n",
    "#plt.xlabel(\"Frame\")\n",
    "#plt.ylabel(\"elongation instances\")\n",
    "#plt.savefig('figures/elongation_inst.png',dpi = 600)"
   ]
  },
  {
   "cell_type": "code",
   "execution_count": null,
   "metadata": {},
   "outputs": [
    {
     "data": {
      "image/png": "[encoded data removed]",
      "text/plain": [
       "<Figure size 432x288 with 1 Axes>"
      ]
     },
     "metadata": {
      "needs_background": "light"
     },
     "output_type": "display_data"
    }
   ],
   "source": [
    "#fig = plt.figure()\n",
    "#ax = fig.add_axes([0.15,0.15,0.80,0.80])\n",
    "#ax.plot(fragmentation)\n",
    "#plt.xlabel(\"Frame\")\n",
    "#plt.ylabel(\"fragmentation instances\")\n",
    "#plt.savefig('figures/fragmentation_inst.png',dpi = 600)"
   ]
  },
  {
   "cell_type": "code",
   "execution_count": null,
   "metadata": {},
   "outputs": [
    {
     "data": {
      "image/png": "[encoded data removed]",
      "text/plain": [
       "<Figure size 432x288 with 1 Axes>"
      ]
     },
     "metadata": {
      "needs_background": "light"
     },
     "output_type": "display_data"
    }
   ],
   "source": [
    "#fig = plt.figure()\n",
    "#ax = fig.add_axes([0.15,0.15,0.80,0.80])\n",
    "#ax.plot(depoly)\n",
    "#plt.xlabel(\"Frame\")\n",
    "#plt.ylabel(\"depolymerization instances\")\n",
    "#plt.savefig('figures/depoly_inst.png',dpi = 600)"
   ]
  },
  {
   "cell_type": "markdown",
   "metadata": {},
   "source": [
    "# Depolymerization algorithm:\n",
    "1. We have data for cluster ID and the coordination number of each particle at different timesteps.\n",
    "&nbsp;\n",
    "&nbsp;\n",
    "2. We compare the cluster ID of a particle at the current time step to the cluster ID of the same particle at a previous time step.\n",
    "&nbsp;\n",
    "&nbsp;\n",
    "3. If the cluster ID is different, it means that this particle belongs to a different chain than what was in the previous time step.\n",
    "&nbsp;\n",
    "&nbsp;\n",
    "4. We identify the particle ID and then go back to the coordination number data of the particle at the current and the previous step.\n",
    "&nbsp;\n",
    "&nbsp;\n",
    "5. If the coordination number of that particle:\n",
    "&nbsp;\n",
    "&nbsp;\n",
    "***\n",
    ">        a) changes from 2 to 1    :   the particle belonged in the middle of a chain previously and now blongs to  the end of a chain. This could either be migration between chains or fragmentation.\n",
    "\n",
    ">        b) changes from 1 to 2    :   the particle was at the end of the chain and now belongs to the middle of a > chain. This could be because of elongation also.\n",
    "        \n",
    ">        c) changes from 1 to 0    :   the particle was at the end of the chain and now its a free monomer.     therefore if we count the number of such occurences between different timesteps, we have the depolymerization rate.\n",
    "***"
   ]
  },
  {
   "cell_type": "markdown",
   "metadata": {},
   "source": [
    "def Block_Average(data,Max_block_Size=2):\n",
    "    block_Mean = np.zeros(Max_block_Size)\n",
    "    block_Var = np.zeros(Max_block_Size)\n",
    "    block_sig = np.zeros(Max_block_Size)\n",
    "    block_Err = np.zeros(Max_block_Size)\n",
    "    Size = np.arange(1,Max_block_Size+1)\n",
    "    for block_Size in Size:\n",
    "        Nb = int(len(data)/block_Size)\n",
    "        b_mean = np.zeros(Nb)\n",
    "        for j in range(1,Nb+1):\n",
    "            ibeg = (j-1) * block_Size\n",
    "            iend = ibeg + block_Size\n",
    "            b_mean[j-1] = np.mean(data[ibeg:iend])\n",
    "        block_Mean[block_Size-1] = np.mean(b_mean)\n",
    "        block_Var[block_Size-1] = np.var(b_mean)/(Nb-1)\n",
    "        block_sig[block_Size-1] = np.sqrt(block_Var[block_Size-1])\n",
    "        block_Err[block_Size-1] = block_sig[block_Size-1]/np.sqrt(Nb)\n",
    "    return Size,block_Mean,block_sig,block_Err"
   ]
  },
  {
   "cell_type": "markdown",
   "metadata": {},
   "source": [
    "## The code box below is the original algorithm"
   ]
  },
  {
   "cell_type": "markdown",
   "metadata": {},
   "source": [
    "\n",
    "frame_no = []\n",
    "line_counter = 0\n",
    "iter = 0\n",
    "part_id = [] #stores the particle id for each frame\n",
    "currcluster_id = [] #stores the cluster ID for the current frame\n",
    "oldcluster_id=[] #stores the the cluster ID for the previous frame\n",
    "curr_coord = [] #stores the coordination number for the current frame \n",
    "old_coord = [] #stores the coordination number for the previous frame\n",
    "size = [] #stores the sizes of each cluster ID\n",
    "avg_len = [] #average length of the chain\n",
    "max_len = [] #maximum length of the chain\n",
    "migration = [] #stores the number of times there is a change between the surrent and the previous cluster ID\n",
    "curr_particle_cluster_size = [] #stores the chain size that the particle belongs to\n",
    "old_particle_cluster_size = []\n",
    "dimer = [] #stores the number of dimers in each frame\n",
    "trimer = [] #stores the number of trimers in each frame\n",
    "hexamer = [] #stores the number of 6-mers in each frame\n",
    "elongation = [] #stores elongation instance for each frame\n",
    "fragmentation = [] #stores fragmentation instance for each frame\n",
    "depoly = [] #stores depolymerization instance for each frame\n",
    "f_elon = 0\n",
    "f_frag = 0\n",
    "f_depo = 0\n",
    "iter = 0\n",
    "file1 = open(\"cluster.dat\",\"r\")\n",
    "file2 = open(\"coord.dat\",\"r\")\n",
    "for line,line2 in zip(file1,file2):\n",
    "    line_counter = line_counter + 1\n",
    "    if line_counter==2:\n",
    "        frame_no.append(int(line))\n",
    "    if (line_counter>9)&(line_counter <= 1009):\n",
    "        f_list = [float(i) for i in line.split()]\n",
    "        n_list = [float(i) for i in line2.split()]\n",
    "        part_id.append(f_list[0])\n",
    "        currcluster_id.append(f_list[1])\n",
    "        curr_coord.append(n_list[1])\n",
    "    if (line_counter == 1009):\n",
    "        part_index = [0]\n",
    "        change_count = 0\n",
    "        line_counter = 0\n",
    "        for i in range(0,len(part_id)):\n",
    "            size.append(countX(currcluster_id,part_id[i]))\n",
    "            curr_particle_cluster_size.append(countX(currcluster_id,currcluster_id[i])) \n",
    "        avg_len.append(np.mean(size))\n",
    "        max_len.append(np.max(size))\n",
    "        dimer.append(countX(curr_particle_cluster_size,2))\n",
    "        trimer.append(countX(curr_particle_cluster_size,3))\n",
    "        hexamer.append(countX(curr_particle_cluster_size,6))\n",
    "        if iter >= 1:\n",
    "            part_index = [0]\n",
    "            for j in range(0,len(oldcluster_id)):\n",
    "                if oldcluster_id[j]!=currcluster_id[j]:\n",
    "                    change_count += 1\n",
    "            f_elon = 0\n",
    "            f_frag = 0\n",
    "            f_depo = 0\n",
    "            for k in range(0,len(curr_particle_cluster_size)):\n",
    "                if part_id[k] not in part_index:\n",
    "                    part_index.append(part_id[k])\n",
    "                    if curr_particle_cluster_size[k] > old_particle_cluster_size[k]:\n",
    "                        f_elon += 1\n",
    "                        for q in range(0,len(curr_particle_cluster_size)):\n",
    "                            if (currcluster_id[k]==currcluster_id[q]) & (part_id[q] not in part_index):\n",
    "                                part_index.append(part_id[q])\n",
    "                                \n",
    "            part_index = [0]\n",
    "            for k in range(0,len(curr_particle_cluster_size)):\n",
    "                if part_id[k] not in part_index:\n",
    "                    part_index.append(part_id[k])\n",
    "                    if (curr_particle_cluster_size[k] < old_particle_cluster_size[k]) & (curr_coord[k] != 0):\n",
    "                        f_frag += 1\n",
    "                        for q in range(0,len(curr_particle_cluster_size)):\n",
    "                            if (currcluster_id[k]==currcluster_id[q]) & (part_id[q] not in part_index):\n",
    "                                part_index.append(part_id[q])\n",
    "\n",
    "            part_index = [0]\n",
    "            for k in range(0,len(curr_particle_cluster_size)):\n",
    "                if part_id[k] not in part_index:\n",
    "                    part_index.append(part_id[k])\n",
    "                    if (curr_particle_cluster_size[k] < old_particle_cluster_size[k]) & (curr_coord[k] == 0):\n",
    "                        f_depo += 1\n",
    "                        for q in range(0,len(curr_particle_cluster_size)):\n",
    "                            if (currcluster_id[k]==currcluster_id[q]) & (part_id[q] not in part_index):\n",
    "                                part_index.append(part_id[q])\n",
    "                                                            \n",
    "        elongation.append(f_elon)\n",
    "        fragmentation.append(f_frag)\n",
    "        depoly.append(f_depo)                    \n",
    "        migration.append(change_count)\n",
    "        oldcluster_id = currcluster_id\n",
    "        old_coord = curr_coord\n",
    "        old_particle_cluster_size = curr_particle_cluster_size\n",
    "        part_id = []\n",
    "        currcluster_id = []\n",
    "        curr_coord = []\n",
    "        size = []\n",
    "        curr_particle_cluster_size =[]\n",
    "        iter += 1        "
   ]
  },
  {
   "cell_type": "markdown",
   "metadata": {},
   "source": [
    "x = [1,1,1,1,1,2,1,1,1,1,1,1,1,3,1,1,1,1,1,1,1,1,1,1,1,4,1,1,1,1,1,1,1,1,2,2,2,1,1,1,1,1,1,1,1,1,1,1,1,1,1,1,1,1]\n",
    "print(np.mean(x))\n",
    "print(np.average(x,weights=x))"
   ]
  },
  {
   "cell_type": "markdown",
   "metadata": {},
   "source": [
    "import pandas as pd\n",
    "cdata = pd.read_excel('post_process_files/last_frame_cluster_size.xlsx')\n",
    "cdata.head()\n"
   ]
  },
  {
   "cell_type": "markdown",
   "metadata": {},
   "source": [
    "cluster_size = np.arange(1,np.max(cdata.cl_size)+1)\n",
    "number_cluster = []\n",
    "for i in cluster_size:\n",
    "    number_cluster.append((cdata.cl_size.to_numpy().tolist().count(i))/i)"
   ]
  },
  {
   "cell_type": "markdown",
   "metadata": {},
   "source": [
    "plt.bar(cluster_size,number_cluster)\n",
    "print(np.sum(number_cluster))"
   ]
  },
  {
   "cell_type": "code",
   "execution_count": null,
   "metadata": {},
   "outputs": [],
   "source": []
  }
 ],
 "metadata": {
  "kernelspec": {
   "display_name": "Python 3.8.5 ('base')",
   "language": "python",
   "name": "python3"
  },
  "language_info": {
   "codemirror_mode": {
    "name": "ipython",
    "version": 3
   },
   "file_extension": ".py",
   "mimetype": "text/x-python",
   "name": "python",
   "nbconvert_exporter": "python",
   "pygments_lexer": "ipython3",
   "version": "3.8.5"
  },
  "orig_nbformat": 4,
  "vscode": {
   "interpreter": {
    "hash": "ad2bdc8ecc057115af97d19610ffacc2b4e99fae6737bb82f5d7fb13d2f2c186"
   }
  }
 },
 "nbformat": 4,
 "nbformat_minor": 2
}
