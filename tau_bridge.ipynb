{
 "cells": [
  {
   "cell_type": "code",
   "execution_count": 17,
   "metadata": {},
   "outputs": [],
   "source": [
    "import numpy as np\n",
    "import matplotlib.pyplot as plt\n"
   ]
  },
  {
   "cell_type": "code",
   "execution_count": 18,
   "metadata": {},
   "outputs": [
    {
     "name": "stdout",
     "output_type": "stream",
     "text": [
      "[81, 162, 243, 324, 405, 486, 567, 648]\n"
     ]
    }
   ],
   "source": [
    "particle_id = []\n",
    "part = 8\n",
    "npol = 40\n",
    "n_chain = int(part*npol)\n",
    "bead = 2\n",
    "beadpol = int(bead*npol)\n",
    "for i in range(0,part):\n",
    "    particle_id.append(int((i+1)+(i+1)*beadpol))\n",
    "print(particle_id)"
   ]
  },
  {
   "cell_type": "code",
   "execution_count": 19,
   "metadata": {},
   "outputs": [],
   "source": [
    "global bead1; bead1 = []\n",
    "s = True\n",
    "for i in range(1,int(bead*npol*part+part)+1):\n",
    "    if i%2 !=0 and s:\n",
    "        if i%81 != 0:\n",
    "            bead1.append(i)\n",
    "        else:\n",
    "            s = not s\n",
    "    elif i%2 == 0 and not s:\n",
    "        if i%81 != 0:\n",
    "            bead1.append(i)\n",
    "        else:\n",
    "            s = not s\n",
    "global bead2; bead2 = []\n",
    "for i in range(0,len(bead1)):\n",
    "    bead2.append(bead1[i]+1)\n",
    "bead1 = np.array(bead1)\n",
    "bead2 = np.array(bead2)        "
   ]
  },
  {
   "cell_type": "code",
   "execution_count": 20,
   "metadata": {},
   "outputs": [],
   "source": [
    "def find_pair(p1):\n",
    "    global bead1,bead2;\n",
    "    if p1 in bead1:\n",
    "        i = np.where(bead1 == p1) \n",
    "        return(bead2[i[0][0]])\n",
    "    elif p1 in bead2:\n",
    "        i = np.where(bead2 == p1) \n",
    "        return(bead1[i[0][0]])"
   ]
  },
  {
   "cell_type": "code",
   "execution_count": 32,
   "metadata": {},
   "outputs": [],
   "source": [
    "def bead_index(p):\n",
    "    global bead1, bead2;\n",
    "    if p in bead1:\n",
    "        i = np.where(bead1 == p)\n",
    "        return(i[0][0])\n",
    "    if p in bead2:\n",
    "        i = np.where(bead2 == p)\n",
    "        return(i[0][0])"
   ]
  },
  {
   "cell_type": "code",
   "execution_count": 38,
   "metadata": {},
   "outputs": [],
   "source": [
    "filename = \"dump.stat\"\n",
    "time_step = []\n",
    "line_counter = 0\n",
    "n_pairs = 0\n",
    "with open(filename) as file1:\n",
    "    for line in file1:\n",
    "        line_counter += 1\n",
    "        if line_counter == 2:\n",
    "            time_step.append(int(line))\n",
    "        if line_counter == 4:\n",
    "            n_pairs = int(line)\n",
    "        if line_counter == n_pairs+9:\n",
    "            line_counter = 0\n",
    "\n",
    "line_counter = 0\n",
    "#ch_type = np.zeros((len(time_step),n_chain),dtype = int)\n",
    "bead1_ener = np.zeros((len(time_step),n_chain))\n",
    "bead2_ener = np.zeros((len(time_step),n_chain))\n",
    "n_pairs = 0\n",
    "itera = 0\n",
    "ch = 0\n",
    "with open(filename) as file1:\n",
    "    for line in file1:\n",
    "        line_counter += 1\n",
    "        if line_counter == 4:\n",
    "            n_pairs = int(line)\n",
    "            p1 = np.zeros(n_pairs)\n",
    "            p2 = np.zeros(n_pairs)\n",
    "            dist = np.zeros(n_pairs)\n",
    "            ener = np.zeros(n_pairs)\n",
    "            it = 0\n",
    "        if line_counter >=10 and line_counter <= n_pairs+9:\n",
    "            t_list = [float(i) for i in line.split()]\n",
    "            p1[it] = int(t_list[0])\n",
    "            p2[it] = int(t_list[1])\n",
    "            dist[it] = t_list[2]\n",
    "            ener[it] = t_list[3]  \n",
    "            it += 1                                   \n",
    "        if line_counter == n_pairs+9:\n",
    "            line_counter = 0\n",
    "            for i in range(0,len(p1)):\n",
    "                if p1[i] in particle_id:\n",
    "                    if ener[i] < 0:\n",
    "                        #ch = int((p2[i] - (p2[i]/beadpol) - 1)/bead)\n",
    "                        for j in range(0,len(p2)):\n",
    "                            if p1[j] == find_pair(p2[i]):\n",
    "                                if p2[j] in particle_id and p2[j] != p1[i] and ener[j] < 0:\n",
    "                                    #ch_type[itera,ch] == 1\n",
    "                                    bead1_ener[itera,bead_index(p2[i])] = ener[i]\n",
    "                                    bead2_ener[itera,bead_index(p1[j])] = ener[j]\n",
    "                                    break;\n",
    "                            elif p2[j] == find_pair(p2[i]):\n",
    "                                if p1[j] in particle_id and p1[j] != p1[i] and ener[j] < 0:\n",
    "                                    #ch_type[itera,ch] == 1\n",
    "                                    bead1_ener[itera,bead_index(p2[i])] = ener[i]\n",
    "                                    bead2_ener[itera,bead_index(p2[j])] = ener[j]\n",
    "                                    break;\n",
    "                elif p2[i] in particle_id:\n",
    "                    if ener[i] < 0:\n",
    "                        #ch = int((p1[i] - (p1[i]/beadpol) - 1)/bead)\n",
    "                        for j in range(0,len(p1)):\n",
    "                            if p1[j] == find_pair(p1[i]):\n",
    "                                if p2[j] in particle_id and p2[j] != p2[i] and ener[j] < 0:\n",
    "                                    #ch_type[itera,ch] == 1\n",
    "                                    bead1_ener[itera,bead_index(p1[i])] = ener[i]\n",
    "                                    bead2_ener[itera,bead_index(p1[j])] = ener[j]\n",
    "                                    break;\n",
    "                            elif p2[j] == find_pair(p1[i]):\n",
    "                                if p1[j] in particle_id and p1[j] != p2[i] and ener[j] < 0:\n",
    "                                    #ch_type[itera,ch] == 1\n",
    "                                    bead1_ener[itera,bead_index(p1[i])] = ener[i]\n",
    "                                    bead2_ener[itera,bead_index(p2[j])] = ener[j]\n",
    "                                    break;\n",
    "            itera += 1  \n",
    "\n",
    "          "
   ]
  },
  {
   "cell_type": "code",
   "execution_count": null,
   "metadata": {},
   "outputs": [],
   "source": [
    "#file = open(\"file1.txt\", \"w+\")\n",
    "#content = str(ch_type)\n",
    "#file.write(content)\n",
    "#file.close()"
   ]
  },
  {
   "cell_type": "code",
   "execution_count": null,
   "metadata": {},
   "outputs": [],
   "source": [
    "time_step = np.array(time_step).transpose()"
   ]
  },
  {
   "cell_type": "code",
   "execution_count": null,
   "metadata": {},
   "outputs": [],
   "source": [
    "np.savetxt(\"bead1.txt\",bead1_ener,fmt = \"%0.3f\")\n",
    "np.savetxt(\"bead2.txt\",bead2_ener,fmt = \"%0.3f\")\n",
    "np.savetxt(\"time_step.txt\",time_step,fmt = \"%d\")"
   ]
  },
  {
   "cell_type": "code",
   "execution_count": null,
   "metadata": {},
   "outputs": [],
   "source": []
  }
 ],
 "metadata": {
  "kernelspec": {
   "display_name": "Python 3.9.12 ('base')",
   "language": "python",
   "name": "python3"
  },
  "language_info": {
   "codemirror_mode": {
    "name": "ipython",
    "version": 3
   },
   "file_extension": ".py",
   "mimetype": "text/x-python",
   "name": "python",
   "nbconvert_exporter": "python",
   "pygments_lexer": "ipython3",
   "version": "3.9.12"
  },
  "orig_nbformat": 4,
  "vscode": {
   "interpreter": {
    "hash": "6dd1b76a3a96323851402af7c6e4e6569ab9d92e5a065d343f61ec6e246de817"
   }
  }
 },
 "nbformat": 4,
 "nbformat_minor": 2
}
